{
  "nbformat": 4,
  "nbformat_minor": 0,
  "metadata": {
    "colab": {
      "provenance": [],
      "gpuType": "T4",
      "include_colab_link": true
    },
    "kernelspec": {
      "name": "python3",
      "display_name": "Python 3"
    },
    "language_info": {
      "name": "python"
    },
    "accelerator": "GPU"
  },
  "cells": [
    {
      "cell_type": "markdown",
      "metadata": {
        "id": "view-in-github",
        "colab_type": "text"
      },
      "source": [
        "<a href=\"https://colab.research.google.com/github/Carlosespicur/TFM/blob/main/GAE_UPDB.ipynb\" target=\"_parent\"><img src=\"https://colab.research.google.com/assets/colab-badge.svg\" alt=\"Open In Colab\"/></a>"
      ]
    },
    {
      "cell_type": "code",
      "source": [
        "import torch\n",
        "!pip install torch_geometric\n",
        "import torch_geometric\n",
        "!pip install torcheval\n",
        "import matplotlib.pyplot as plt\n",
        "import pandas as pd"
      ],
      "metadata": {
        "colab": {
          "base_uri": "https://localhost:8080/"
        },
        "id": "5qlLuZklB9Ab",
        "outputId": "c7eea686-69f4-4e7e-fffe-7907c2aca60d"
      },
      "execution_count": 1,
      "outputs": [
        {
          "output_type": "stream",
          "name": "stdout",
          "text": [
            "Collecting torch_geometric\n",
            "  Downloading torch_geometric-2.5.0-py3-none-any.whl (1.1 MB)\n",
            "\u001b[2K     \u001b[90m━━━━━━━━━━━━━━━━━━━━━━━━━━━━━━━━━━━━━━━━\u001b[0m \u001b[32m1.1/1.1 MB\u001b[0m \u001b[31m8.3 MB/s\u001b[0m eta \u001b[36m0:00:00\u001b[0m\n",
            "\u001b[?25hRequirement already satisfied: tqdm in /usr/local/lib/python3.10/dist-packages (from torch_geometric) (4.66.2)\n",
            "Requirement already satisfied: numpy in /usr/local/lib/python3.10/dist-packages (from torch_geometric) (1.25.2)\n",
            "Requirement already satisfied: scipy in /usr/local/lib/python3.10/dist-packages (from torch_geometric) (1.11.4)\n",
            "Requirement already satisfied: fsspec in /usr/local/lib/python3.10/dist-packages (from torch_geometric) (2023.6.0)\n",
            "Requirement already satisfied: jinja2 in /usr/local/lib/python3.10/dist-packages (from torch_geometric) (3.1.3)\n",
            "Requirement already satisfied: aiohttp in /usr/local/lib/python3.10/dist-packages (from torch_geometric) (3.9.3)\n",
            "Requirement already satisfied: requests in /usr/local/lib/python3.10/dist-packages (from torch_geometric) (2.31.0)\n",
            "Requirement already satisfied: pyparsing in /usr/local/lib/python3.10/dist-packages (from torch_geometric) (3.1.1)\n",
            "Requirement already satisfied: scikit-learn in /usr/local/lib/python3.10/dist-packages (from torch_geometric) (1.2.2)\n",
            "Requirement already satisfied: psutil>=5.8.0 in /usr/local/lib/python3.10/dist-packages (from torch_geometric) (5.9.5)\n",
            "Requirement already satisfied: aiosignal>=1.1.2 in /usr/local/lib/python3.10/dist-packages (from aiohttp->torch_geometric) (1.3.1)\n",
            "Requirement already satisfied: attrs>=17.3.0 in /usr/local/lib/python3.10/dist-packages (from aiohttp->torch_geometric) (23.2.0)\n",
            "Requirement already satisfied: frozenlist>=1.1.1 in /usr/local/lib/python3.10/dist-packages (from aiohttp->torch_geometric) (1.4.1)\n",
            "Requirement already satisfied: multidict<7.0,>=4.5 in /usr/local/lib/python3.10/dist-packages (from aiohttp->torch_geometric) (6.0.5)\n",
            "Requirement already satisfied: yarl<2.0,>=1.0 in /usr/local/lib/python3.10/dist-packages (from aiohttp->torch_geometric) (1.9.4)\n",
            "Requirement already satisfied: async-timeout<5.0,>=4.0 in /usr/local/lib/python3.10/dist-packages (from aiohttp->torch_geometric) (4.0.3)\n",
            "Requirement already satisfied: MarkupSafe>=2.0 in /usr/local/lib/python3.10/dist-packages (from jinja2->torch_geometric) (2.1.5)\n",
            "Requirement already satisfied: charset-normalizer<4,>=2 in /usr/local/lib/python3.10/dist-packages (from requests->torch_geometric) (3.3.2)\n",
            "Requirement already satisfied: idna<4,>=2.5 in /usr/local/lib/python3.10/dist-packages (from requests->torch_geometric) (3.6)\n",
            "Requirement already satisfied: urllib3<3,>=1.21.1 in /usr/local/lib/python3.10/dist-packages (from requests->torch_geometric) (2.0.7)\n",
            "Requirement already satisfied: certifi>=2017.4.17 in /usr/local/lib/python3.10/dist-packages (from requests->torch_geometric) (2024.2.2)\n",
            "Requirement already satisfied: joblib>=1.1.1 in /usr/local/lib/python3.10/dist-packages (from scikit-learn->torch_geometric) (1.3.2)\n",
            "Requirement already satisfied: threadpoolctl>=2.0.0 in /usr/local/lib/python3.10/dist-packages (from scikit-learn->torch_geometric) (3.3.0)\n",
            "Installing collected packages: torch_geometric\n",
            "Successfully installed torch_geometric-2.5.0\n",
            "Collecting torcheval\n",
            "  Downloading torcheval-0.0.7-py3-none-any.whl (179 kB)\n",
            "\u001b[2K     \u001b[90m━━━━━━━━━━━━━━━━━━━━━━━━━━━━━━━━━━━━━━━━\u001b[0m \u001b[32m179.2/179.2 kB\u001b[0m \u001b[31m5.8 MB/s\u001b[0m eta \u001b[36m0:00:00\u001b[0m\n",
            "\u001b[?25hRequirement already satisfied: typing-extensions in /usr/local/lib/python3.10/dist-packages (from torcheval) (4.10.0)\n",
            "Installing collected packages: torcheval\n",
            "Successfully installed torcheval-0.0.7\n"
          ]
        }
      ]
    },
    {
      "cell_type": "code",
      "source": [
        "from torch_geometric.nn import GCNConv, GAE, global_mean_pool\n",
        "from torch.nn import Linear, CrossEntropyLoss\n",
        "from torch.optim import Adam\n",
        "from torch_geometric.loader import DataLoader\n",
        "import torch.nn.functional as F\n",
        "from torcheval.metrics import BinaryAccuracy"
      ],
      "metadata": {
        "id": "LW4qWRHnDbSI"
      },
      "execution_count": 2,
      "outputs": []
    },
    {
      "cell_type": "code",
      "source": [
        "# Model hyperparameters\n",
        "hidden_channels = 20\n",
        "lr = 1e-3\n",
        "batch_size = 1\n",
        "num_epochs = 30"
      ],
      "metadata": {
        "id": "EFaooP9VCVIg"
      },
      "execution_count": 31,
      "outputs": []
    },
    {
      "cell_type": "code",
      "source": [
        "# Data load\n",
        "from torch_geometric.datasets import UPFD\n",
        "\n",
        "train_data = UPFD(root = \"/content/UPFD_train\", name = \"politifact\", feature = \"bert\", split = \"train\") # name = {\"politifact\", \"gossipcop\"}, feature = {\"profile\", \"spacy\", \"bert\", \"content\"}\n",
        "val_data = UPFD(root = \"/content/UPFD_val\", name = \"politifact\", feature = \"bert\", split = \"val\")\n",
        "test_data = UPFD(root = \"/content/UPFD_test\", name = \"politifact\", feature = \"bert\", split = \"test\")\n",
        "train_loader = DataLoader(train_data, batch_size, shuffle = True)\n",
        "val_loader = DataLoader(val_data, batch_size, shuffle = False)\n",
        "test_loader = DataLoader(test_data, batch_size, shuffle = False)\n",
        "pd.DataFrame(train_data.y).value_counts().plot(kind='bar', xlabel='numbers', ylabel='frequency')\n",
        "\n",
        "plt.show()"
      ],
      "metadata": {
        "colab": {
          "base_uri": "https://localhost:8080/",
          "height": 460
        },
        "id": "-Xb6HqA7FMbh",
        "outputId": "001eeac0-9498-4907-a470-133e83e2e350"
      },
      "execution_count": 32,
      "outputs": [
        {
          "output_type": "display_data",
          "data": {
            "text/plain": [
              "<Figure size 640x480 with 1 Axes>"
            ],
            "image/png": "[encoded data removed]"
          },
          "metadata": {}
        }
      ]
    },
    {
      "cell_type": "code",
      "source": [
        "num_features = train_data.num_node_features\n",
        "num_classes = train_data.num_classes"
      ],
      "metadata": {
        "id": "9o6y8lirGtaw"
      },
      "execution_count": 33,
      "outputs": []
    },
    {
      "cell_type": "code",
      "execution_count": 34,
      "metadata": {
        "id": "VzHen3IOBzmm"
      },
      "outputs": [],
      "source": [
        "# 2-layer GCN encoder, Detector module and complete model\n",
        "\n",
        "class GCNEncoder(torch.nn.Module):\n",
        "  def __init__(self, hidden_channels):\n",
        "    super().__init__()\n",
        "    self.conv1 = GCNConv(num_features, hidden_channels)\n",
        "    self.conv2 = GCNConv(hidden_channels, hidden_channels)\n",
        "\n",
        "  def forward(self, x, edge_index):\n",
        "    x = self.conv1(x, edge_index)\n",
        "    x = x.relu()\n",
        "    x = self.conv2(x, edge_index)\n",
        "    x = x.relu()\n",
        "\n",
        "    return x\n",
        "\n",
        "class Detector(torch.nn.Module):\n",
        "  def __init__(self, input_size, num_classes):\n",
        "    super().__init__()\n",
        "    self.lin = Linear(input_size, num_classes)\n",
        "\n",
        "  def forward(self, z):\n",
        "    z = F.dropout(z, p=0.3, training=self.training)\n",
        "    return self.lin(z)\n",
        "\n",
        "\n",
        "class GAEDetector(torch.nn.Module):\n",
        "  def __init__(self, encoder):\n",
        "    super().__init__()\n",
        "    self.gae = GAE(encoder)\n",
        "    self.detector = Detector(hidden_channels, num_classes)\n",
        "    self.z = torch.zeros(hidden_channels) # encoder output\n",
        "\n",
        "  def forward(self, x, edge_index):\n",
        "    self.z = self.gae.encode(x, edge_index)\n",
        "    output = self.gae.decode(self.z, edge_index)\n",
        "    return output\n"
      ]
    },
    {
      "cell_type": "code",
      "source": [
        "encoder = GCNEncoder(hidden_channels)\n",
        "model = GAEDetector(encoder)"
      ],
      "metadata": {
        "id": "MzCLteg4X4mw"
      },
      "execution_count": 35,
      "outputs": []
    },
    {
      "cell_type": "code",
      "source": [
        "# training and test functions\n",
        "\n",
        "optimizer = Adam(model.parameters(), lr)\n",
        "det_criterion = CrossEntropyLoss(reduction = \"mean\") # Loss function for Detector module\n",
        "def train():\n",
        "  model.train()\n",
        "\n",
        "  for data in train_loader:\n",
        "    GAE_out = model(data.x, data.edge_index)\n",
        "    detector_in = global_mean_pool(model.z, data.batch)\n",
        "    detector_out = model.detector(detector_in) # Unnormalized logits\n",
        "    loss_GAE =  F.binary_cross_entropy(GAE_out, torch.ones(GAE_out.size(dim = 0))) # Compute binary CE loss of decoder\n",
        "    loss_detector = det_criterion(detector_out, data.y) # Compute loss of detector module\n",
        "    loss = loss_GAE + loss_detector\n",
        "    # print(f\"loss_GAE = {loss_GAE}, loss_detector = {loss_detector}, total_loss = {loss}\")\n",
        "    loss.backward() # Compute gradients\n",
        "    optimizer.step() # Update model parameters\n",
        "    optimizer.zero_grad() # Clear gradients\n",
        "\n",
        "def test(data_loader):\n",
        "  model.eval()\n",
        "\n",
        "  preds = torch.tensor([]) # vector of all model predictions in current epoch\n",
        "  labels = torch.tensor([]) # vector of all labels\n",
        "\n",
        "  for data in data_loader:\n",
        "    GAE_out = model(data.x, data.edge_index)\n",
        "    detector_in = global_mean_pool(model.z, data.batch)\n",
        "    detector_out = model.detector(detector_in)\n",
        "    pred_labels = torch.argmax(detector_out, dim = 1)\n",
        "    preds = torch.cat((preds, pred_labels))\n",
        "    labels = torch.cat((labels, data.y))\n",
        "\n",
        "  # Compute metrics\n",
        "  metrics = []\n",
        "  acc = BinaryAccuracy() # Accuracy\n",
        "  acc.update(preds, labels)\n",
        "  metrics.append(acc.compute())\n",
        "\n",
        "  return metrics\n"
      ],
      "metadata": {
        "id": "x6Ee8jxgY2j5"
      },
      "execution_count": 36,
      "outputs": []
    },
    {
      "cell_type": "code",
      "source": [
        "# Model training\n",
        "\n",
        "for epoch in range(1, num_epochs + 1):\n",
        "  train()\n",
        "  train_acc = test(train_loader)[0]\n",
        "  val_acc = test(val_loader)[0]\n",
        "  print(f\"Epoch: {epoch}, train_acc = {train_acc:.3f}, val_acc = {val_acc:.3f}\")\n"
      ],
      "metadata": {
        "colab": {
          "base_uri": "https://localhost:8080/"
        },
        "id": "NOjIj0SB9T0N",
        "outputId": "feb3dbf7-e547-4a7d-d2ca-e6dd0cf6620b"
      },
      "execution_count": 37,
      "outputs": [
        {
          "output_type": "stream",
          "name": "stdout",
          "text": [
            "Epoch: 1, train_acc = 0.581, val_acc = 0.419\n",
            "Epoch: 2, train_acc = 0.581, val_acc = 0.419\n",
            "Epoch: 3, train_acc = 0.629, val_acc = 0.419\n",
            "Epoch: 4, train_acc = 0.968, val_acc = 0.806\n",
            "Epoch: 5, train_acc = 0.887, val_acc = 0.742\n",
            "Epoch: 6, train_acc = 0.871, val_acc = 0.742\n",
            "Epoch: 7, train_acc = 0.968, val_acc = 0.742\n",
            "Epoch: 8, train_acc = 0.935, val_acc = 0.806\n",
            "Epoch: 9, train_acc = 1.000, val_acc = 0.839\n",
            "Epoch: 10, train_acc = 0.984, val_acc = 0.774\n",
            "Epoch: 11, train_acc = 1.000, val_acc = 0.839\n",
            "Epoch: 12, train_acc = 1.000, val_acc = 0.839\n",
            "Epoch: 13, train_acc = 1.000, val_acc = 0.806\n",
            "Epoch: 14, train_acc = 0.903, val_acc = 0.774\n",
            "Epoch: 15, train_acc = 1.000, val_acc = 0.806\n",
            "Epoch: 16, train_acc = 0.984, val_acc = 0.839\n",
            "Epoch: 17, train_acc = 1.000, val_acc = 0.806\n",
            "Epoch: 18, train_acc = 1.000, val_acc = 0.806\n",
            "Epoch: 19, train_acc = 1.000, val_acc = 0.871\n",
            "Epoch: 20, train_acc = 1.000, val_acc = 0.871\n",
            "Epoch: 21, train_acc = 1.000, val_acc = 0.806\n",
            "Epoch: 22, train_acc = 1.000, val_acc = 0.806\n",
            "Epoch: 23, train_acc = 1.000, val_acc = 0.806\n",
            "Epoch: 24, train_acc = 1.000, val_acc = 0.839\n",
            "Epoch: 25, train_acc = 1.000, val_acc = 0.839\n",
            "Epoch: 26, train_acc = 1.000, val_acc = 0.871\n",
            "Epoch: 27, train_acc = 1.000, val_acc = 0.871\n",
            "Epoch: 28, train_acc = 1.000, val_acc = 0.871\n",
            "Epoch: 29, train_acc = 1.000, val_acc = 0.871\n",
            "Epoch: 30, train_acc = 1.000, val_acc = 0.839\n"
          ]
        }
      ]
    },
    {
      "cell_type": "code",
      "source": [
        "# Model testing\n",
        "\n",
        "test_metrics = test(test_loader)\n",
        "print(f\"test_acc = {test_metrics[0]}\")"
      ],
      "metadata": {
        "colab": {
          "base_uri": "https://localhost:8080/"
        },
        "id": "k_p-n49h_FdX",
        "outputId": "3c38045b-1ed8-45e6-8dbc-01d7ca80c001"
      },
      "execution_count": 38,
      "outputs": [
        {
          "output_type": "stream",
          "name": "stdout",
          "text": [
            "test_acc = 0.8280543088912964\n"
          ]
        }
      ]
    }
  ]
}